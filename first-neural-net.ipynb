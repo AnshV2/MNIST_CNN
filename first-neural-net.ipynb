{
 "cells": [
  {
   "cell_type": "code",
   "execution_count": 1,
   "id": "29499256",
   "metadata": {
    "_cell_guid": "b1076dfc-b9ad-4769-8c92-a6c4dae69d19",
    "_uuid": "8f2839f25d086af736a60e9eeb907d3b93b6e0e5",
    "execution": {
     "iopub.execute_input": "2023-01-08T16:17:22.979663Z",
     "iopub.status.busy": "2023-01-08T16:17:22.978904Z",
     "iopub.status.idle": "2023-01-08T16:17:30.567751Z",
     "shell.execute_reply": "2023-01-08T16:17:30.566377Z"
    },
    "papermill": {
     "duration": 7.598149,
     "end_time": "2023-01-08T16:17:30.571098",
     "exception": false,
     "start_time": "2023-01-08T16:17:22.972949",
     "status": "completed"
    },
    "tags": []
   },
   "outputs": [],
   "source": [
    "import tensorflow as tf\n",
    "from tensorflow import keras\n",
    "import numpy as np\n",
    "import pandas as pd\n",
    "import math\n",
    "from matplotlib import pyplot as plt\n"
   ]
  },
  {
   "cell_type": "code",
   "execution_count": 2,
   "id": "7c8dc755",
   "metadata": {
    "execution": {
     "iopub.execute_input": "2023-01-08T16:17:30.579395Z",
     "iopub.status.busy": "2023-01-08T16:17:30.578443Z",
     "iopub.status.idle": "2023-01-08T16:17:37.341705Z",
     "shell.execute_reply": "2023-01-08T16:17:37.340136Z"
    },
    "papermill": {
     "duration": 6.770794,
     "end_time": "2023-01-08T16:17:37.344955",
     "exception": false,
     "start_time": "2023-01-08T16:17:30.574161",
     "status": "completed"
    },
    "tags": []
   },
   "outputs": [],
   "source": [
    "data = pd.read_csv('/kaggle/input/digit-recognizer/train.csv')\n",
    "testing = pd.read_csv('/kaggle/input/digit-recognizer/test.csv')"
   ]
  },
  {
   "cell_type": "code",
   "execution_count": 3,
   "id": "40504320",
   "metadata": {
    "execution": {
     "iopub.execute_input": "2023-01-08T16:17:37.352351Z",
     "iopub.status.busy": "2023-01-08T16:17:37.351884Z",
     "iopub.status.idle": "2023-01-08T16:17:37.940056Z",
     "shell.execute_reply": "2023-01-08T16:17:37.937652Z"
    },
    "papermill": {
     "duration": 0.595405,
     "end_time": "2023-01-08T16:17:37.943140",
     "exception": false,
     "start_time": "2023-01-08T16:17:37.347735",
     "status": "completed"
    },
    "tags": []
   },
   "outputs": [],
   "source": [
    "data = np.array(data)\n",
    "data_test = np.array(testing)\n",
    "m, n = data.shape\n",
    "\n",
    "data_x = (data[:, 1:])\n",
    "data_x = data_x / 255\n",
    "data_y = (data[:, 0])"
   ]
  },
  {
   "cell_type": "code",
   "execution_count": 4,
   "id": "48ab0712",
   "metadata": {
    "execution": {
     "iopub.execute_input": "2023-01-08T16:17:37.950944Z",
     "iopub.status.busy": "2023-01-08T16:17:37.950493Z",
     "iopub.status.idle": "2023-01-08T16:18:21.767375Z",
     "shell.execute_reply": "2023-01-08T16:18:21.766221Z"
    },
    "papermill": {
     "duration": 43.823825,
     "end_time": "2023-01-08T16:18:21.769837",
     "exception": false,
     "start_time": "2023-01-08T16:17:37.946012",
     "status": "completed"
    },
    "tags": []
   },
   "outputs": [
    {
     "name": "stderr",
     "output_type": "stream",
     "text": [
      "2023-01-08 16:17:39.346977: I tensorflow/core/common_runtime/process_util.cc:146] Creating new thread pool with default inter op setting: 2. Tune using inter_op_parallelism_threads for best performance.\n",
      "2023-01-08 16:17:40.235592: I tensorflow/compiler/mlir/mlir_graph_optimization_pass.cc:185] None of the MLIR Optimization Passes are enabled (registered 2)\n"
     ]
    },
    {
     "name": "stdout",
     "output_type": "stream",
     "text": [
      "Epoch 1/7\n",
      "1313/1313 [==============================] - 6s 4ms/step - loss: 0.3095 - accuracy: 0.9103\n",
      "Epoch 2/7\n",
      "1313/1313 [==============================] - 4s 3ms/step - loss: 0.1408 - accuracy: 0.9597\n",
      "Epoch 3/7\n",
      "1313/1313 [==============================] - 5s 4ms/step - loss: 0.0988 - accuracy: 0.9707\n",
      "Epoch 4/7\n",
      "1313/1313 [==============================] - 4s 3ms/step - loss: 0.0751 - accuracy: 0.9777\n",
      "Epoch 5/7\n",
      "1313/1313 [==============================] - 4s 3ms/step - loss: 0.0586 - accuracy: 0.9815\n",
      "Epoch 6/7\n",
      "1313/1313 [==============================] - 4s 3ms/step - loss: 0.0466 - accuracy: 0.9860\n",
      "Epoch 7/7\n",
      "1313/1313 [==============================] - 4s 3ms/step - loss: 0.0382 - accuracy: 0.9883\n"
     ]
    },
    {
     "data": {
      "text/plain": [
       "<keras.callbacks.History at 0x7f7ec45d2290>"
      ]
     },
     "execution_count": 4,
     "metadata": {},
     "output_type": "execute_result"
    }
   ],
   "source": [
    "model = keras.Sequential([\n",
    "    keras.layers.Dense(100, input_shape=(784,), activation = 'relu'),\n",
    "    keras.layers.Dense(10, activation='sigmoid')\n",
    "])\n",
    "\n",
    "model.compile(optimizer = \"adam\", \n",
    "             loss = 'sparse_categorical_crossentropy',\n",
    "             metrics = ['accuracy'])\n",
    "\n",
    "model.fit(data_x, data_y, epochs = 7)\n",
    "\n",
    "\n",
    "\n",
    "\n"
   ]
  },
  {
   "cell_type": "code",
   "execution_count": 5,
   "id": "63b0bd8b",
   "metadata": {
    "execution": {
     "iopub.execute_input": "2023-01-08T16:18:21.854679Z",
     "iopub.status.busy": "2023-01-08T16:18:21.853406Z",
     "iopub.status.idle": "2023-01-08T16:18:23.866811Z",
     "shell.execute_reply": "2023-01-08T16:18:23.864646Z"
    },
    "papermill": {
     "duration": 2.059458,
     "end_time": "2023-01-08T16:18:23.870519",
     "exception": false,
     "start_time": "2023-01-08T16:18:21.811061",
     "status": "completed"
    },
    "tags": []
   },
   "outputs": [
    {
     "name": "stdout",
     "output_type": "stream",
     "text": [
      "[2 0 3 ... 3 4 2]\n"
     ]
    }
   ],
   "source": [
    "test_predict = model.predict(testing)\n",
    "final = test_predict.argmax(axis=1)\n",
    "print(final)"
   ]
  },
  {
   "cell_type": "code",
   "execution_count": 6,
   "id": "71cee786",
   "metadata": {
    "execution": {
     "iopub.execute_input": "2023-01-08T16:18:23.957858Z",
     "iopub.status.busy": "2023-01-08T16:18:23.957037Z",
     "iopub.status.idle": "2023-01-08T16:18:24.047097Z",
     "shell.execute_reply": "2023-01-08T16:18:24.045708Z"
    },
    "papermill": {
     "duration": 0.136696,
     "end_time": "2023-01-08T16:18:24.050317",
     "exception": false,
     "start_time": "2023-01-08T16:18:23.913621",
     "status": "completed"
    },
    "tags": []
   },
   "outputs": [],
   "source": [
    "pd.DataFrame(final).to_csv(\"/kaggle/working/submission.csv\")\n",
    "\n",
    "submission = pd.DataFrame({\n",
    "        \"ImageId\": pd.DataFrame([int(x) for x in range(1, 28000+1)])[0],\n",
    "        \"Label\": final\n",
    "    })\n",
    "submission.to_csv('submission.csv', index=False)"
   ]
  }
 ],
 "metadata": {
  "kernelspec": {
   "display_name": "Python 3",
   "language": "python",
   "name": "python3"
  },
  "language_info": {
   "codemirror_mode": {
    "name": "ipython",
    "version": 3
   },
   "file_extension": ".py",
   "mimetype": "text/x-python",
   "name": "python",
   "nbconvert_exporter": "python",
   "pygments_lexer": "ipython3",
   "version": "3.7.12"
  },
  "papermill": {
   "default_parameters": {},
   "duration": 76.435657,
   "end_time": "2023-01-08T16:18:27.416800",
   "environment_variables": {},
   "exception": null,
   "input_path": "__notebook__.ipynb",
   "output_path": "__notebook__.ipynb",
   "parameters": {},
   "start_time": "2023-01-08T16:17:10.981143",
   "version": "2.3.4"
  }
 },
 "nbformat": 4,
 "nbformat_minor": 5
}
